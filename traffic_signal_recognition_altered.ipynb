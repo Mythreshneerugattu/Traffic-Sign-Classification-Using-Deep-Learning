{
 "cells": [
  {
   "cell_type": "markdown",
   "metadata": {},
   "source": [
    "## Import required libraries"
   ]
  },
  {
   "cell_type": "code",
   "execution_count": 2,
   "metadata": {},
   "outputs": [
    {
     "name": "stdout",
     "output_type": "stream",
     "text": [
      "Requirement already satisfied: opencv-python in c:\\users\\mythresh neerugattu\\anaconda3\\lib\\site-packages (4.10.0.84)\n",
      "Requirement already satisfied: numpy>=1.21.2 in c:\\users\\mythresh neerugattu\\anaconda3\\lib\\site-packages (from opencv-python) (1.26.4)\n"
     ]
    }
   ],
   "source": [
    "!pip install opencv-python"
   ]
  },
  {
   "cell_type": "code",
   "execution_count": 3,
   "metadata": {},
   "outputs": [
    {
     "name": "stdout",
     "output_type": "stream",
     "text": [
      "Requirement already satisfied: tensorflow in c:\\users\\mythresh neerugattu\\anaconda3\\lib\\site-packages (2.18.0)\n",
      "Requirement already satisfied: tensorflow-intel==2.18.0 in c:\\users\\mythresh neerugattu\\anaconda3\\lib\\site-packages (from tensorflow) (2.18.0)\n",
      "Requirement already satisfied: absl-py>=1.0.0 in c:\\users\\mythresh neerugattu\\anaconda3\\lib\\site-packages (from tensorflow-intel==2.18.0->tensorflow) (2.1.0)\n",
      "Requirement already satisfied: astunparse>=1.6.0 in c:\\users\\mythresh neerugattu\\anaconda3\\lib\\site-packages (from tensorflow-intel==2.18.0->tensorflow) (1.6.3)\n",
      "Requirement already satisfied: flatbuffers>=24.3.25 in c:\\users\\mythresh neerugattu\\anaconda3\\lib\\site-packages (from tensorflow-intel==2.18.0->tensorflow) (24.3.25)\n",
      "Requirement already satisfied: gast!=0.5.0,!=0.5.1,!=0.5.2,>=0.2.1 in c:\\users\\mythresh neerugattu\\anaconda3\\lib\\site-packages (from tensorflow-intel==2.18.0->tensorflow) (0.6.0)\n",
      "Requirement already satisfied: google-pasta>=0.1.1 in c:\\users\\mythresh neerugattu\\anaconda3\\lib\\site-packages (from tensorflow-intel==2.18.0->tensorflow) (0.2.0)\n",
      "Requirement already satisfied: libclang>=13.0.0 in c:\\users\\mythresh neerugattu\\anaconda3\\lib\\site-packages (from tensorflow-intel==2.18.0->tensorflow) (18.1.1)\n",
      "Requirement already satisfied: opt-einsum>=2.3.2 in c:\\users\\mythresh neerugattu\\anaconda3\\lib\\site-packages (from tensorflow-intel==2.18.0->tensorflow) (3.4.0)\n",
      "Requirement already satisfied: packaging in c:\\users\\mythresh neerugattu\\anaconda3\\lib\\site-packages (from tensorflow-intel==2.18.0->tensorflow) (23.2)\n",
      "Requirement already satisfied: protobuf!=4.21.0,!=4.21.1,!=4.21.2,!=4.21.3,!=4.21.4,!=4.21.5,<6.0.0dev,>=3.20.3 in c:\\users\\mythresh neerugattu\\anaconda3\\lib\\site-packages (from tensorflow-intel==2.18.0->tensorflow) (3.20.3)\n",
      "Requirement already satisfied: requests<3,>=2.21.0 in c:\\users\\mythresh neerugattu\\anaconda3\\lib\\site-packages (from tensorflow-intel==2.18.0->tensorflow) (2.32.2)\n",
      "Requirement already satisfied: setuptools in c:\\users\\mythresh neerugattu\\anaconda3\\lib\\site-packages (from tensorflow-intel==2.18.0->tensorflow) (69.5.1)\n",
      "Requirement already satisfied: six>=1.12.0 in c:\\users\\mythresh neerugattu\\anaconda3\\lib\\site-packages (from tensorflow-intel==2.18.0->tensorflow) (1.16.0)\n",
      "Requirement already satisfied: termcolor>=1.1.0 in c:\\users\\mythresh neerugattu\\anaconda3\\lib\\site-packages (from tensorflow-intel==2.18.0->tensorflow) (2.5.0)\n",
      "Requirement already satisfied: typing-extensions>=3.6.6 in c:\\users\\mythresh neerugattu\\anaconda3\\lib\\site-packages (from tensorflow-intel==2.18.0->tensorflow) (4.11.0)\n",
      "Requirement already satisfied: wrapt>=1.11.0 in c:\\users\\mythresh neerugattu\\anaconda3\\lib\\site-packages (from tensorflow-intel==2.18.0->tensorflow) (1.14.1)\n",
      "Requirement already satisfied: grpcio<2.0,>=1.24.3 in c:\\users\\mythresh neerugattu\\anaconda3\\lib\\site-packages (from tensorflow-intel==2.18.0->tensorflow) (1.68.0)\n",
      "Requirement already satisfied: tensorboard<2.19,>=2.18 in c:\\users\\mythresh neerugattu\\anaconda3\\lib\\site-packages (from tensorflow-intel==2.18.0->tensorflow) (2.18.0)\n",
      "Requirement already satisfied: keras>=3.5.0 in c:\\users\\mythresh neerugattu\\anaconda3\\lib\\site-packages (from tensorflow-intel==2.18.0->tensorflow) (3.6.0)\n",
      "Requirement already satisfied: numpy<2.1.0,>=1.26.0 in c:\\users\\mythresh neerugattu\\anaconda3\\lib\\site-packages (from tensorflow-intel==2.18.0->tensorflow) (1.26.4)\n",
      "Requirement already satisfied: h5py>=3.11.0 in c:\\users\\mythresh neerugattu\\anaconda3\\lib\\site-packages (from tensorflow-intel==2.18.0->tensorflow) (3.11.0)\n",
      "Requirement already satisfied: ml-dtypes<0.5.0,>=0.4.0 in c:\\users\\mythresh neerugattu\\anaconda3\\lib\\site-packages (from tensorflow-intel==2.18.0->tensorflow) (0.4.1)\n",
      "Requirement already satisfied: wheel<1.0,>=0.23.0 in c:\\users\\mythresh neerugattu\\anaconda3\\lib\\site-packages (from astunparse>=1.6.0->tensorflow-intel==2.18.0->tensorflow) (0.43.0)\n",
      "Requirement already satisfied: rich in c:\\users\\mythresh neerugattu\\anaconda3\\lib\\site-packages (from keras>=3.5.0->tensorflow-intel==2.18.0->tensorflow) (13.3.5)\n",
      "Requirement already satisfied: namex in c:\\users\\mythresh neerugattu\\anaconda3\\lib\\site-packages (from keras>=3.5.0->tensorflow-intel==2.18.0->tensorflow) (0.0.8)\n",
      "Requirement already satisfied: optree in c:\\users\\mythresh neerugattu\\anaconda3\\lib\\site-packages (from keras>=3.5.0->tensorflow-intel==2.18.0->tensorflow) (0.13.1)\n",
      "Requirement already satisfied: charset-normalizer<4,>=2 in c:\\users\\mythresh neerugattu\\anaconda3\\lib\\site-packages (from requests<3,>=2.21.0->tensorflow-intel==2.18.0->tensorflow) (2.0.4)\n",
      "Requirement already satisfied: idna<4,>=2.5 in c:\\users\\mythresh neerugattu\\anaconda3\\lib\\site-packages (from requests<3,>=2.21.0->tensorflow-intel==2.18.0->tensorflow) (3.7)\n",
      "Requirement already satisfied: urllib3<3,>=1.21.1 in c:\\users\\mythresh neerugattu\\anaconda3\\lib\\site-packages (from requests<3,>=2.21.0->tensorflow-intel==2.18.0->tensorflow) (2.2.2)\n",
      "Requirement already satisfied: certifi>=2017.4.17 in c:\\users\\mythresh neerugattu\\anaconda3\\lib\\site-packages (from requests<3,>=2.21.0->tensorflow-intel==2.18.0->tensorflow) (2024.8.30)\n",
      "Requirement already satisfied: markdown>=2.6.8 in c:\\users\\mythresh neerugattu\\anaconda3\\lib\\site-packages (from tensorboard<2.19,>=2.18->tensorflow-intel==2.18.0->tensorflow) (3.4.1)\n",
      "Requirement already satisfied: tensorboard-data-server<0.8.0,>=0.7.0 in c:\\users\\mythresh neerugattu\\anaconda3\\lib\\site-packages (from tensorboard<2.19,>=2.18->tensorflow-intel==2.18.0->tensorflow) (0.7.2)\n",
      "Requirement already satisfied: werkzeug>=1.0.1 in c:\\users\\mythresh neerugattu\\anaconda3\\lib\\site-packages (from tensorboard<2.19,>=2.18->tensorflow-intel==2.18.0->tensorflow) (3.0.3)\n",
      "Requirement already satisfied: MarkupSafe>=2.1.1 in c:\\users\\mythresh neerugattu\\anaconda3\\lib\\site-packages (from werkzeug>=1.0.1->tensorboard<2.19,>=2.18->tensorflow-intel==2.18.0->tensorflow) (2.1.3)\n",
      "Requirement already satisfied: markdown-it-py<3.0.0,>=2.2.0 in c:\\users\\mythresh neerugattu\\anaconda3\\lib\\site-packages (from rich->keras>=3.5.0->tensorflow-intel==2.18.0->tensorflow) (2.2.0)\n",
      "Requirement already satisfied: pygments<3.0.0,>=2.13.0 in c:\\users\\mythresh neerugattu\\anaconda3\\lib\\site-packages (from rich->keras>=3.5.0->tensorflow-intel==2.18.0->tensorflow) (2.15.1)\n",
      "Requirement already satisfied: mdurl~=0.1 in c:\\users\\mythresh neerugattu\\anaconda3\\lib\\site-packages (from markdown-it-py<3.0.0,>=2.2.0->rich->keras>=3.5.0->tensorflow-intel==2.18.0->tensorflow) (0.1.0)\n"
     ]
    }
   ],
   "source": [
    "!pip install tensorflow\n"
   ]
  },
  {
   "cell_type": "code",
   "execution_count": 4,
   "metadata": {},
   "outputs": [],
   "source": [
    "import numpy as np \n",
    "import pandas as pd \n",
    "import matplotlib.pyplot as plt\n",
    "import cv2\n",
    "import tensorflow as tf\n",
    "from PIL import Image\n",
    "import os\n",
    "os.chdir('C:\\\\Users\\\\Mythresh Neerugattu\\\\Desktop\\\\Intelligent sys\\\\Traffic_Sign_Recognition')\n",
    "from sklearn.model_selection import train_test_split\n",
    "from keras.utils import to_categorical\n",
    "from keras.models import Sequential, load_model\n",
    "from keras.layers import Conv2D, MaxPool2D, Dense, Flatten, Dropout"
   ]
  },
  {
   "cell_type": "markdown",
   "metadata": {},
   "source": [
    "## Store data, labels in the list"
   ]
  },
  {
   "cell_type": "code",
   "execution_count": 6,
   "metadata": {},
   "outputs": [],
   "source": [
    "# data = []\n",
    "# labels = []\n",
    "# # We have 43 Classes\n",
    "classes = 43\n",
    "cur_path = os.getcwd()"
   ]
  },
  {
   "cell_type": "code",
   "execution_count": 7,
   "metadata": {},
   "outputs": [
    {
     "name": "stdout",
     "output_type": "stream",
     "text": [
      "Meta\n",
      "Meta.csv\n",
      "Test\n",
      "Test.csv\n",
      "Train\n",
      "Train.csv\n"
     ]
    }
   ],
   "source": [
    "import os\n",
    "\n",
    "# dir_path = '/path/to/my_directory'\n",
    "\n",
    "# Get a list of all files and directories in the directory\n",
    "contents = os.listdir(cur_path)\n",
    "\n",
    "# Iterate over the contents and do something with each file or directory\n",
    "for item in contents:\n",
    "    # Do something with the item\n",
    "    print(item)\n"
   ]
  },
  {
   "cell_type": "code",
   "execution_count": 8,
   "metadata": {},
   "outputs": [
    {
     "data": {
      "text/plain": [
       "'C:\\\\Users\\\\Mythresh Neerugattu\\\\Desktop\\\\Intelligent sys\\\\Traffic_Sign_Recognition'"
      ]
     },
     "execution_count": 8,
     "metadata": {},
     "output_type": "execute_result"
    }
   ],
   "source": [
    "cur_path"
   ]
  },
  {
   "cell_type": "markdown",
   "metadata": {},
   "source": [
    "## Preprocess the images"
   ]
  },
  {
   "cell_type": "code",
   "execution_count": 10,
   "metadata": {},
   "outputs": [],
   "source": [
    "# for i in range(classes):\n",
    "#     path = os.path.join(cur_path,'Train',str(i))\n",
    "#     images = os.listdir(path)\n",
    "#     for a in images:\n",
    "#         try:\n",
    "#             image = Image.open(path + '\\\\'+ a)\n",
    "#             image = image.resize((30,30))\n",
    "#             image = np.array(image)\n",
    "#             data.append(image)\n",
    "#             labels.append(i)\n",
    "#         except Exception as e:\n",
    "#             print(e)\n",
    "\n",
    "# cur_path = os.getcwd()\n",
    "data_path = os.path.join(cur_path, \"Train\")\n",
    "\n",
    "# Preprocessing parameters\n",
    "img_size = 64\n",
    "batch_size = 32\n",
    "\n",
    "# Load the data and perform pre-processing\n",
    "data = []\n",
    "labels = []\n",
    "\n",
    "for i in range(43):\n",
    "    path = os.path.join(data_path, str(i))\n",
    "    images = os.listdir(path)\n",
    "    for a in images:\n",
    "        try:\n",
    "            image = Image.open(os.path.join(path, a))\n",
    "            # Resize the images to a larger size\n",
    "            image = image.resize((img_size, img_size))\n",
    "            image = np.array(image)\n",
    "            # Normalize the pixel values to [0, 1]\n",
    "            image = image / 255.0\n",
    "            data.append(image)\n",
    "            labels.append(i)\n",
    "        except Exception as e:\n",
    "            print(e)\n",
    "\n"
   ]
  },
  {
   "cell_type": "code",
   "execution_count": 11,
   "metadata": {},
   "outputs": [
    {
     "data": {
      "text/plain": [
       "['00042_00000_00000.png',\n",
       " '00042_00000_00001.png',\n",
       " '00042_00000_00002.png',\n",
       " '00042_00000_00003.png',\n",
       " '00042_00000_00004.png',\n",
       " '00042_00000_00005.png',\n",
       " '00042_00000_00006.png',\n",
       " '00042_00000_00007.png',\n",
       " '00042_00000_00008.png',\n",
       " '00042_00000_00009.png',\n",
       " '00042_00000_00010.png',\n",
       " '00042_00000_00011.png',\n",
       " '00042_00000_00012.png',\n",
       " '00042_00000_00013.png',\n",
       " '00042_00000_00014.png',\n",
       " '00042_00000_00015.png',\n",
       " '00042_00000_00016.png',\n",
       " '00042_00000_00017.png',\n",
       " '00042_00000_00018.png',\n",
       " '00042_00000_00019.png',\n",
       " '00042_00000_00020.png',\n",
       " '00042_00000_00021.png',\n",
       " '00042_00000_00022.png',\n",
       " '00042_00000_00023.png',\n",
       " '00042_00000_00024.png',\n",
       " '00042_00000_00025.png',\n",
       " '00042_00000_00026.png',\n",
       " '00042_00000_00027.png',\n",
       " '00042_00000_00028.png',\n",
       " '00042_00000_00029.png',\n",
       " '00042_00001_00000.png',\n",
       " '00042_00001_00001.png',\n",
       " '00042_00001_00002.png',\n",
       " '00042_00001_00003.png',\n",
       " '00042_00001_00004.png',\n",
       " '00042_00001_00005.png',\n",
       " '00042_00001_00006.png',\n",
       " '00042_00001_00007.png',\n",
       " '00042_00001_00008.png',\n",
       " '00042_00001_00009.png',\n",
       " '00042_00001_00010.png',\n",
       " '00042_00001_00011.png',\n",
       " '00042_00001_00012.png',\n",
       " '00042_00001_00013.png',\n",
       " '00042_00001_00014.png',\n",
       " '00042_00001_00015.png',\n",
       " '00042_00001_00016.png',\n",
       " '00042_00001_00017.png',\n",
       " '00042_00001_00018.png',\n",
       " '00042_00001_00019.png',\n",
       " '00042_00001_00020.png',\n",
       " '00042_00001_00021.png',\n",
       " '00042_00001_00022.png',\n",
       " '00042_00001_00023.png',\n",
       " '00042_00001_00024.png',\n",
       " '00042_00001_00025.png',\n",
       " '00042_00001_00026.png',\n",
       " '00042_00001_00027.png',\n",
       " '00042_00001_00028.png',\n",
       " '00042_00001_00029.png',\n",
       " '00042_00002_00000.png',\n",
       " '00042_00002_00001.png',\n",
       " '00042_00002_00002.png',\n",
       " '00042_00002_00003.png',\n",
       " '00042_00002_00004.png',\n",
       " '00042_00002_00005.png',\n",
       " '00042_00002_00006.png',\n",
       " '00042_00002_00007.png',\n",
       " '00042_00002_00008.png',\n",
       " '00042_00002_00009.png',\n",
       " '00042_00002_00010.png',\n",
       " '00042_00002_00011.png',\n",
       " '00042_00002_00012.png',\n",
       " '00042_00002_00013.png',\n",
       " '00042_00002_00014.png',\n",
       " '00042_00002_00015.png',\n",
       " '00042_00002_00016.png',\n",
       " '00042_00002_00017.png',\n",
       " '00042_00002_00018.png',\n",
       " '00042_00002_00019.png',\n",
       " '00042_00002_00020.png',\n",
       " '00042_00002_00021.png',\n",
       " '00042_00002_00022.png',\n",
       " '00042_00002_00023.png',\n",
       " '00042_00002_00024.png',\n",
       " '00042_00002_00025.png',\n",
       " '00042_00002_00026.png',\n",
       " '00042_00002_00027.png',\n",
       " '00042_00002_00028.png',\n",
       " '00042_00002_00029.png',\n",
       " '00042_00003_00000.png',\n",
       " '00042_00003_00001.png',\n",
       " '00042_00003_00002.png',\n",
       " '00042_00003_00003.png',\n",
       " '00042_00003_00004.png',\n",
       " '00042_00003_00005.png',\n",
       " '00042_00003_00006.png',\n",
       " '00042_00003_00007.png',\n",
       " '00042_00003_00008.png',\n",
       " '00042_00003_00009.png',\n",
       " '00042_00003_00010.png',\n",
       " '00042_00003_00011.png',\n",
       " '00042_00003_00012.png',\n",
       " '00042_00003_00013.png',\n",
       " '00042_00003_00014.png',\n",
       " '00042_00003_00015.png',\n",
       " '00042_00003_00016.png',\n",
       " '00042_00003_00017.png',\n",
       " '00042_00003_00018.png',\n",
       " '00042_00003_00019.png',\n",
       " '00042_00003_00020.png',\n",
       " '00042_00003_00021.png',\n",
       " '00042_00003_00022.png',\n",
       " '00042_00003_00023.png',\n",
       " '00042_00003_00024.png',\n",
       " '00042_00003_00025.png',\n",
       " '00042_00003_00026.png',\n",
       " '00042_00003_00027.png',\n",
       " '00042_00003_00028.png',\n",
       " '00042_00003_00029.png',\n",
       " '00042_00004_00000.png',\n",
       " '00042_00004_00001.png',\n",
       " '00042_00004_00002.png',\n",
       " '00042_00004_00003.png',\n",
       " '00042_00004_00004.png',\n",
       " '00042_00004_00005.png',\n",
       " '00042_00004_00006.png',\n",
       " '00042_00004_00007.png',\n",
       " '00042_00004_00008.png',\n",
       " '00042_00004_00009.png',\n",
       " '00042_00004_00010.png',\n",
       " '00042_00004_00011.png',\n",
       " '00042_00004_00012.png',\n",
       " '00042_00004_00013.png',\n",
       " '00042_00004_00014.png',\n",
       " '00042_00004_00015.png',\n",
       " '00042_00004_00016.png',\n",
       " '00042_00004_00017.png',\n",
       " '00042_00004_00018.png',\n",
       " '00042_00004_00019.png',\n",
       " '00042_00004_00020.png',\n",
       " '00042_00004_00021.png',\n",
       " '00042_00004_00022.png',\n",
       " '00042_00004_00023.png',\n",
       " '00042_00004_00024.png',\n",
       " '00042_00004_00025.png',\n",
       " '00042_00004_00026.png',\n",
       " '00042_00004_00027.png',\n",
       " '00042_00004_00028.png',\n",
       " '00042_00004_00029.png',\n",
       " '00042_00005_00000.png',\n",
       " '00042_00005_00001.png',\n",
       " '00042_00005_00002.png',\n",
       " '00042_00005_00003.png',\n",
       " '00042_00005_00004.png',\n",
       " '00042_00005_00005.png',\n",
       " '00042_00005_00006.png',\n",
       " '00042_00005_00007.png',\n",
       " '00042_00005_00008.png',\n",
       " '00042_00005_00009.png',\n",
       " '00042_00005_00010.png',\n",
       " '00042_00005_00011.png',\n",
       " '00042_00005_00012.png',\n",
       " '00042_00005_00013.png',\n",
       " '00042_00005_00014.png',\n",
       " '00042_00005_00015.png',\n",
       " '00042_00005_00016.png',\n",
       " '00042_00005_00017.png',\n",
       " '00042_00005_00018.png',\n",
       " '00042_00005_00019.png',\n",
       " '00042_00005_00020.png',\n",
       " '00042_00005_00021.png',\n",
       " '00042_00005_00022.png',\n",
       " '00042_00005_00023.png',\n",
       " '00042_00005_00024.png',\n",
       " '00042_00005_00025.png',\n",
       " '00042_00005_00026.png',\n",
       " '00042_00005_00027.png',\n",
       " '00042_00005_00028.png',\n",
       " '00042_00005_00029.png',\n",
       " '00042_00006_00000.png',\n",
       " '00042_00006_00001.png',\n",
       " '00042_00006_00002.png',\n",
       " '00042_00006_00003.png',\n",
       " '00042_00006_00004.png',\n",
       " '00042_00006_00005.png',\n",
       " '00042_00006_00006.png',\n",
       " '00042_00006_00007.png',\n",
       " '00042_00006_00008.png',\n",
       " '00042_00006_00009.png',\n",
       " '00042_00006_00010.png',\n",
       " '00042_00006_00011.png',\n",
       " '00042_00006_00012.png',\n",
       " '00042_00006_00013.png',\n",
       " '00042_00006_00014.png',\n",
       " '00042_00006_00015.png',\n",
       " '00042_00006_00016.png',\n",
       " '00042_00006_00017.png',\n",
       " '00042_00006_00018.png',\n",
       " '00042_00006_00019.png',\n",
       " '00042_00006_00020.png',\n",
       " '00042_00006_00021.png',\n",
       " '00042_00006_00022.png',\n",
       " '00042_00006_00023.png',\n",
       " '00042_00006_00024.png',\n",
       " '00042_00006_00025.png',\n",
       " '00042_00006_00026.png',\n",
       " '00042_00006_00027.png',\n",
       " '00042_00006_00028.png',\n",
       " '00042_00006_00029.png',\n",
       " '00042_00007_00000.png',\n",
       " '00042_00007_00001.png',\n",
       " '00042_00007_00002.png',\n",
       " '00042_00007_00003.png',\n",
       " '00042_00007_00004.png',\n",
       " '00042_00007_00005.png',\n",
       " '00042_00007_00006.png',\n",
       " '00042_00007_00007.png',\n",
       " '00042_00007_00008.png',\n",
       " '00042_00007_00009.png',\n",
       " '00042_00007_00010.png',\n",
       " '00042_00007_00011.png',\n",
       " '00042_00007_00012.png',\n",
       " '00042_00007_00013.png',\n",
       " '00042_00007_00014.png',\n",
       " '00042_00007_00015.png',\n",
       " '00042_00007_00016.png',\n",
       " '00042_00007_00017.png',\n",
       " '00042_00007_00018.png',\n",
       " '00042_00007_00019.png',\n",
       " '00042_00007_00020.png',\n",
       " '00042_00007_00021.png',\n",
       " '00042_00007_00022.png',\n",
       " '00042_00007_00023.png',\n",
       " '00042_00007_00024.png',\n",
       " '00042_00007_00025.png',\n",
       " '00042_00007_00026.png',\n",
       " '00042_00007_00027.png',\n",
       " '00042_00007_00028.png',\n",
       " '00042_00007_00029.png']"
      ]
     },
     "execution_count": 11,
     "metadata": {},
     "output_type": "execute_result"
    }
   ],
   "source": [
    "images = os.listdir(path)\n",
    "images"
   ]
  },
  {
   "cell_type": "markdown",
   "metadata": {},
   "source": [
    "## Converting lists into numpy arrays"
   ]
  },
  {
   "cell_type": "code",
   "execution_count": 13,
   "metadata": {},
   "outputs": [],
   "source": [
    "data = np.array(data)\n",
    "labels = np.array(labels)"
   ]
  },
  {
   "cell_type": "code",
   "execution_count": 14,
   "metadata": {},
   "outputs": [
    {
     "data": {
      "text/plain": [
       "array([ 0,  0,  0, ..., 42, 42, 42])"
      ]
     },
     "execution_count": 14,
     "metadata": {},
     "output_type": "execute_result"
    }
   ],
   "source": [
    "labels"
   ]
  },
  {
   "cell_type": "markdown",
   "metadata": {},
   "source": [
    "## Save Labels & Data for future use"
   ]
  },
  {
   "cell_type": "code",
   "execution_count": 16,
   "metadata": {},
   "outputs": [],
   "source": [
    "if not os.path.exists('training'):\n",
    "    os.mkdir('training')\n",
    "else:\n",
    "    print('Training directory already exists, skipping creation.')\n",
    "\n",
    "np.save('./training/data',data)\n",
    "np.save('./training/target',labels)\n"
   ]
  },
  {
   "cell_type": "markdown",
   "metadata": {},
   "source": [
    "## Load data & Labels"
   ]
  },
  {
   "cell_type": "code",
   "execution_count": 18,
   "metadata": {},
   "outputs": [],
   "source": [
    "data=np.load('./training/data.npy')\n",
    "labels=np.load('./training/target.npy')"
   ]
  },
  {
   "cell_type": "code",
   "execution_count": 19,
   "metadata": {},
   "outputs": [
    {
     "name": "stdout",
     "output_type": "stream",
     "text": [
      "(39209, 64, 64, 3) (39209,)\n"
     ]
    }
   ],
   "source": [
    "print(data.shape, labels.shape)"
   ]
  },
  {
   "cell_type": "code",
   "execution_count": 20,
   "metadata": {},
   "outputs": [],
   "source": [
    "X_train, X_test, y_train, y_test = train_test_split(data, labels, test_size=0.2, random_state=0)"
   ]
  },
  {
   "cell_type": "code",
   "execution_count": 21,
   "metadata": {},
   "outputs": [
    {
     "name": "stdout",
     "output_type": "stream",
     "text": [
      "(31367, 64, 64, 3) (7842, 64, 64, 3) (31367,) (7842,)\n"
     ]
    }
   ],
   "source": [
    "print(X_train.shape, X_test.shape, y_train.shape, y_test.shape)"
   ]
  },
  {
   "cell_type": "markdown",
   "metadata": {},
   "source": [
    "## Convert labels to onehot encoding"
   ]
  },
  {
   "cell_type": "code",
   "execution_count": 23,
   "metadata": {},
   "outputs": [],
   "source": [
    "y_train = to_categorical(y_train, 43)\n",
    "y_test = to_categorical(y_test, 43)"
   ]
  },
  {
   "cell_type": "markdown",
   "metadata": {},
   "source": [
    "## Now it's time to build the model"
   ]
  },
  {
   "cell_type": "code",
   "execution_count": 25,
   "metadata": {},
   "outputs": [
    {
     "name": "stderr",
     "output_type": "stream",
     "text": [
      "C:\\Users\\Mythresh Neerugattu\\anaconda3\\Lib\\site-packages\\keras\\src\\layers\\convolutional\\base_conv.py:107: UserWarning: Do not pass an `input_shape`/`input_dim` argument to a layer. When using Sequential models, prefer using an `Input(shape)` object as the first layer in the model instead.\n",
      "  super().__init__(activity_regularizer=activity_regularizer, **kwargs)\n",
      "C:\\Users\\Mythresh Neerugattu\\anaconda3\\Lib\\site-packages\\keras\\src\\layers\\activations\\leaky_relu.py:41: UserWarning: Argument `alpha` is deprecated. Use `negative_slope` instead.\n",
      "  warnings.warn(\n"
     ]
    }
   ],
   "source": [
    "# model = Sequential()\n",
    "# model.add(Conv2D(filters=32, kernel_size=(5,5), activation='relu', input_shape=X_train.shape[1:]))\n",
    "# model.add(Conv2D(filters=32, kernel_size=(5,5), activation='relu'))\n",
    "# model.add(MaxPool2D(pool_size=(2, 2)))\n",
    "# model.add(Dropout(rate=0.25))\n",
    "# model.add(Conv2D(filters=64, kernel_size=(3, 3), activation='relu'))\n",
    "# model.add(Conv2D(filters=64, kernel_size=(3, 3), activation='relu'))\n",
    "# model.add(MaxPool2D(pool_size=(2, 2)))\n",
    "# model.add(Dropout(rate=0.25))\n",
    "# model.add(Flatten())\n",
    "# model.add(Dense(256, activation='relu'))\n",
    "# model.add(Dropout(rate=0.5))\n",
    "# # We have 43 classes that's why we have defined 43 in the dense\n",
    "# model.add(Dense(43, activation='softmax'))\n",
    "from tensorflow.keras.layers import LeakyReLU\n",
    "model = Sequential()\n",
    "\n",
    "model.add(Conv2D(filters=32, kernel_size=(3, 3), activation='relu', input_shape=(img_size, img_size, 3)))\n",
    "model.add(Conv2D(filters=32, kernel_size=(3, 3), activation='relu'))\n",
    "model.add(MaxPool2D(pool_size=(2, 2)))\n",
    "model.add(Dropout(rate=0.25))\n",
    "\n",
    "model.add(Conv2D(filters=64, kernel_size=(3, 3), activation='relu'))\n",
    "model.add(Conv2D(filters=64, kernel_size=(3, 3), activation='relu'))\n",
    "model.add(MaxPool2D(pool_size=(2, 2)))\n",
    "model.add(Dropout(rate=0.25))\n",
    "\n",
    "model.add(Conv2D(filters=128, kernel_size=(3, 3), activation='relu'))\n",
    "model.add(Conv2D(filters=128, kernel_size=(3, 3), activation='relu'))\n",
    "model.add(MaxPool2D(pool_size=(2, 2)))\n",
    "model.add(Dropout(rate=0.25))\n",
    "\n",
    "model.add(Flatten())\n",
    "model.add(Dense(units=512))\n",
    "model.add(LeakyReLU(alpha=0.1))\n",
    "model.add(Dropout(rate=0.5))\n",
    "model.add(Dense(units=43, activation='softmax'))"
   ]
  },
  {
   "cell_type": "code",
   "execution_count": 26,
   "metadata": {},
   "outputs": [],
   "source": [
    "#Compilation of the model\n",
    "model.compile(loss='categorical_crossentropy', optimizer='adam', metrics=['accuracy'])"
   ]
  },
  {
   "cell_type": "code",
   "execution_count": 28,
   "metadata": {},
   "outputs": [
    {
     "name": "stdout",
     "output_type": "stream",
     "text": [
      "Epoch 1/20\n",
      "\u001b[1m981/981\u001b[0m \u001b[32m━━━━━━━━━━━━━━━━━━━━\u001b[0m\u001b[37m\u001b[0m \u001b[1m280s\u001b[0m 285ms/step - accuracy: 0.9616 - loss: 0.1324 - val_accuracy: 0.9898 - val_loss: 0.0378\n",
      "Epoch 2/20\n",
      "\u001b[1m981/981\u001b[0m \u001b[32m━━━━━━━━━━━━━━━━━━━━\u001b[0m\u001b[37m\u001b[0m \u001b[1m294s\u001b[0m 300ms/step - accuracy: 0.9737 - loss: 0.0875 - val_accuracy: 0.9875 - val_loss: 0.0421\n",
      "Epoch 3/20\n",
      "\u001b[1m981/981\u001b[0m \u001b[32m━━━━━━━━━━━━━━━━━━━━\u001b[0m\u001b[37m\u001b[0m \u001b[1m288s\u001b[0m 294ms/step - accuracy: 0.9782 - loss: 0.0726 - val_accuracy: 0.9841 - val_loss: 0.0558\n",
      "Epoch 4/20\n",
      "\u001b[1m981/981\u001b[0m \u001b[32m━━━━━━━━━━━━━━━━━━━━\u001b[0m\u001b[37m\u001b[0m \u001b[1m281s\u001b[0m 287ms/step - accuracy: 0.9825 - loss: 0.0571 - val_accuracy: 0.9935 - val_loss: 0.0294\n",
      "Epoch 5/20\n",
      "\u001b[1m981/981\u001b[0m \u001b[32m━━━━━━━━━━━━━━━━━━━━\u001b[0m\u001b[37m\u001b[0m \u001b[1m288s\u001b[0m 294ms/step - accuracy: 0.9860 - loss: 0.0451 - val_accuracy: 0.9938 - val_loss: 0.0242\n",
      "Epoch 6/20\n",
      "\u001b[1m981/981\u001b[0m \u001b[32m━━━━━━━━━━━━━━━━━━━━\u001b[0m\u001b[37m\u001b[0m \u001b[1m279s\u001b[0m 284ms/step - accuracy: 0.9850 - loss: 0.0502 - val_accuracy: 0.9959 - val_loss: 0.0174\n",
      "Epoch 7/20\n",
      "\u001b[1m981/981\u001b[0m \u001b[32m━━━━━━━━━━━━━━━━━━━━\u001b[0m\u001b[37m\u001b[0m \u001b[1m298s\u001b[0m 304ms/step - accuracy: 0.9883 - loss: 0.0404 - val_accuracy: 0.9957 - val_loss: 0.0184\n",
      "Epoch 8/20\n",
      "\u001b[1m981/981\u001b[0m \u001b[32m━━━━━━━━━━━━━━━━━━━━\u001b[0m\u001b[37m\u001b[0m \u001b[1m300s\u001b[0m 281ms/step - accuracy: 0.9892 - loss: 0.0370 - val_accuracy: 0.9955 - val_loss: 0.0199\n",
      "Epoch 9/20\n",
      "\u001b[1m981/981\u001b[0m \u001b[32m━━━━━━━━━━━━━━━━━━━━\u001b[0m\u001b[37m\u001b[0m \u001b[1m285s\u001b[0m 290ms/step - accuracy: 0.9901 - loss: 0.0345 - val_accuracy: 0.9953 - val_loss: 0.0288\n",
      "Epoch 10/20\n",
      "\u001b[1m981/981\u001b[0m \u001b[32m━━━━━━━━━━━━━━━━━━━━\u001b[0m\u001b[37m\u001b[0m \u001b[1m314s\u001b[0m 282ms/step - accuracy: 0.9885 - loss: 0.0375 - val_accuracy: 0.9957 - val_loss: 0.0206\n",
      "Epoch 11/20\n",
      "\u001b[1m981/981\u001b[0m \u001b[32m━━━━━━━━━━━━━━━━━━━━\u001b[0m\u001b[37m\u001b[0m \u001b[1m279s\u001b[0m 285ms/step - accuracy: 0.9887 - loss: 0.0376 - val_accuracy: 0.9958 - val_loss: 0.0231\n",
      "Epoch 12/20\n",
      "\u001b[1m981/981\u001b[0m \u001b[32m━━━━━━━━━━━━━━━━━━━━\u001b[0m\u001b[37m\u001b[0m \u001b[1m291s\u001b[0m 297ms/step - accuracy: 0.9888 - loss: 0.0417 - val_accuracy: 0.9959 - val_loss: 0.0182\n",
      "Epoch 13/20\n",
      "\u001b[1m981/981\u001b[0m \u001b[32m━━━━━━━━━━━━━━━━━━━━\u001b[0m\u001b[37m\u001b[0m \u001b[1m282s\u001b[0m 287ms/step - accuracy: 0.9914 - loss: 0.0321 - val_accuracy: 0.9938 - val_loss: 0.0265\n",
      "Epoch 14/20\n",
      "\u001b[1m981/981\u001b[0m \u001b[32m━━━━━━━━━━━━━━━━━━━━\u001b[0m\u001b[37m\u001b[0m \u001b[1m281s\u001b[0m 286ms/step - accuracy: 0.9904 - loss: 0.0345 - val_accuracy: 0.9944 - val_loss: 0.0260\n",
      "Epoch 15/20\n",
      "\u001b[1m981/981\u001b[0m \u001b[32m━━━━━━━━━━━━━━━━━━━━\u001b[0m\u001b[37m\u001b[0m \u001b[1m296s\u001b[0m 302ms/step - accuracy: 0.9890 - loss: 0.0417 - val_accuracy: 0.9957 - val_loss: 0.0259\n",
      "Epoch 16/20\n",
      "\u001b[1m981/981\u001b[0m \u001b[32m━━━━━━━━━━━━━━━━━━━━\u001b[0m\u001b[37m\u001b[0m \u001b[1m317s\u001b[0m 323ms/step - accuracy: 0.9914 - loss: 0.0289 - val_accuracy: 0.9950 - val_loss: 0.0268\n",
      "Epoch 17/20\n",
      "\u001b[1m981/981\u001b[0m \u001b[32m━━━━━━━━━━━━━━━━━━━━\u001b[0m\u001b[37m\u001b[0m \u001b[1m280s\u001b[0m 285ms/step - accuracy: 0.9892 - loss: 0.0409 - val_accuracy: 0.9952 - val_loss: 0.0285\n",
      "Epoch 18/20\n",
      "\u001b[1m981/981\u001b[0m \u001b[32m━━━━━━━━━━━━━━━━━━━━\u001b[0m\u001b[37m\u001b[0m \u001b[1m280s\u001b[0m 285ms/step - accuracy: 0.9917 - loss: 0.0335 - val_accuracy: 0.9962 - val_loss: 0.0199\n",
      "Epoch 19/20\n",
      "\u001b[1m981/981\u001b[0m \u001b[32m━━━━━━━━━━━━━━━━━━━━\u001b[0m\u001b[37m\u001b[0m \u001b[1m285s\u001b[0m 291ms/step - accuracy: 0.9918 - loss: 0.0324 - val_accuracy: 0.9963 - val_loss: 0.0217\n",
      "Epoch 20/20\n",
      "\u001b[1m981/981\u001b[0m \u001b[32m━━━━━━━━━━━━━━━━━━━━\u001b[0m\u001b[37m\u001b[0m \u001b[1m274s\u001b[0m 279ms/step - accuracy: 0.9919 - loss: 0.0303 - val_accuracy: 0.9946 - val_loss: 0.0259\n"
     ]
    }
   ],
   "source": [
    "# epochs = 20\n",
    "history = model.fit(X_train, y_train, batch_size=32, epochs=20, validation_data=(X_test, y_test))"
   ]
  },
  {
   "cell_type": "code",
   "execution_count": 29,
   "metadata": {},
   "outputs": [
    {
     "name": "stderr",
     "output_type": "stream",
     "text": [
      "WARNING:absl:You are saving your model as an HDF5 file via `model.save()` or `keras.saving.save_model(model)`. This file format is considered legacy. We recommend using instead the native Keras format, e.g. `model.save('my_model.keras')` or `keras.saving.save_model(model, 'my_model.keras')`. \n",
      "WARNING:absl:Compiled the loaded model, but the compiled metrics have yet to be built. `model.compile_metrics` will be empty until you train or evaluate the model.\n"
     ]
    }
   ],
   "source": [
    "model.save('my_model.h5')\n",
    "from tensorflow.keras.models import load_model\n",
    "\n",
    "loaded_model = load_model('my_model.h5')\n"
   ]
  },
  {
   "cell_type": "code",
   "execution_count": 30,
   "metadata": {},
   "outputs": [
    {
     "data": {
      "image/png": "[encoded data removed]",
      "text/plain": [
       "<Figure size 640x480 with 1 Axes>"
      ]
     },
     "metadata": {},
     "output_type": "display_data"
    }
   ],
   "source": [
    "# accuracy \n",
    "plt.figure(0)\n",
    "plt.plot(history.history['accuracy'], label='training accuracy')\n",
    "plt.plot(history.history['val_accuracy'], label='val accuracy')\n",
    "plt.title('Accuracy')\n",
    "plt.xlabel('epochs')\n",
    "plt.ylabel('accuracy')\n",
    "plt.legend()\n",
    "plt.show()"
   ]
  },
  {
   "cell_type": "code",
   "execution_count": 31,
   "metadata": {},
   "outputs": [
    {
     "data": {
      "image/png": "[encoded data removed]",
      "text/plain": [
       "<Figure size 640x480 with 1 Axes>"
      ]
     },
     "metadata": {},
     "output_type": "display_data"
    }
   ],
   "source": [
    "# Loss\n",
    "plt.plot(history.history['loss'], label='training loss')\n",
    "plt.plot(history.history['val_loss'], label='val loss')\n",
    "plt.title('Loss')\n",
    "plt.xlabel('epochs')\n",
    "plt.ylabel('loss')\n",
    "plt.legend()\n",
    "plt.show()"
   ]
  },
  {
   "cell_type": "markdown",
   "metadata": {},
   "source": [
    "## LEt's do testing on Test data"
   ]
  },
  {
   "cell_type": "code",
   "execution_count": 33,
   "metadata": {},
   "outputs": [],
   "source": [
    "def testing(testcsv):\n",
    "    y_test = pd.read_csv(testcsv)\n",
    "    label = y_test[\"ClassId\"].values\n",
    "    imgs = y_test[\"Path\"].values\n",
    "    data=[]\n",
    "    for img in imgs:\n",
    "        image = Image.open(img)\n",
    "        image = image.resize((64,64))\n",
    "        data.append(np.array(image))\n",
    "    X_test=np.array(data)\n",
    "    return X_test,label"
   ]
  },
  {
   "cell_type": "code",
   "execution_count": 34,
   "metadata": {},
   "outputs": [],
   "source": [
    "X_test, label = testing('Test.csv')"
   ]
  },
  {
   "cell_type": "code",
   "execution_count": 35,
   "metadata": {},
   "outputs": [
    {
     "name": "stdout",
     "output_type": "stream",
     "text": [
      "\u001b[1m395/395\u001b[0m \u001b[32m━━━━━━━━━━━━━━━━━━━━\u001b[0m\u001b[37m\u001b[0m \u001b[1m33s\u001b[0m 83ms/step\n"
     ]
    },
    {
     "data": {
      "text/plain": [
       "array([[0., 0., 0., ..., 0., 0., 0.],\n",
       "       [0., 1., 0., ..., 0., 0., 0.],\n",
       "       [0., 0., 0., ..., 0., 0., 0.],\n",
       "       ...,\n",
       "       [0., 0., 0., ..., 0., 0., 0.],\n",
       "       [0., 0., 0., ..., 0., 0., 0.],\n",
       "       [0., 0., 0., ..., 0., 0., 0.]], dtype=float32)"
      ]
     },
     "execution_count": 35,
     "metadata": {},
     "output_type": "execute_result"
    }
   ],
   "source": [
    "Y_pred = model.predict(X_test)\n",
    "Y_pred"
   ]
  },
  {
   "cell_type": "markdown",
   "metadata": {},
   "source": [
    "## Accuracy with the test data"
   ]
  },
  {
   "cell_type": "code",
   "execution_count": 37,
   "metadata": {},
   "outputs": [
    {
     "name": "stdout",
     "output_type": "stream",
     "text": [
      "0.9336500395882819\n"
     ]
    }
   ],
   "source": [
    "from sklearn.metrics import accuracy_score\n",
    "# print(accuracy_score(label, Y_pred))\n",
    "\n",
    "Y_pred_int = np.argmax(Y_pred, axis=1)\n",
    "print(accuracy_score(label, Y_pred_int))\n"
   ]
  },
  {
   "cell_type": "markdown",
   "metadata": {},
   "source": [
    "## Save the model"
   ]
  },
  {
   "cell_type": "code",
   "execution_count": 39,
   "metadata": {},
   "outputs": [
    {
     "name": "stderr",
     "output_type": "stream",
     "text": [
      "WARNING:absl:You are saving your model as an HDF5 file via `model.save()` or `keras.saving.save_model(model)`. This file format is considered legacy. We recommend using instead the native Keras format, e.g. `model.save('my_model.keras')` or `keras.saving.save_model(model, 'my_model.keras')`. \n"
     ]
    }
   ],
   "source": [
    "model.save(\"./training/TSR.h5\")"
   ]
  },
  {
   "cell_type": "markdown",
   "metadata": {},
   "source": [
    "## Load the Model"
   ]
  },
  {
   "cell_type": "code",
   "execution_count": 41,
   "metadata": {},
   "outputs": [
    {
     "name": "stderr",
     "output_type": "stream",
     "text": [
      "WARNING:absl:Compiled the loaded model, but the compiled metrics have yet to be built. `model.compile_metrics` will be empty until you train or evaluate the model.\n"
     ]
    }
   ],
   "source": [
    "import os\n",
    "os.chdir(r'C:\\\\Users\\\\Mythresh Neerugattu\\\\Desktop\\\\Intelligent sys\\\\Traffic_Sign_Recognition')\n",
    "from keras.models import load_model\n",
    "model = load_model('./training/TSR.h5')"
   ]
  },
  {
   "cell_type": "code",
   "execution_count": 42,
   "metadata": {},
   "outputs": [],
   "source": [
    "# Classes of trafic signs\n",
    "classes = { 0:'Speed limit (20km/h)',\n",
    "            1:'Speed limit (30km/h)', \n",
    "            2:'Speed limit (50km/h)', \n",
    "            3:'Speed limit (60km/h)', \n",
    "            4:'Speed limit (70km/h)', \n",
    "            5:'Speed limit (80km/h)', \n",
    "            6:'End of speed limit (80km/h)', \n",
    "            7:'Speed limit (100km/h)', \n",
    "            8:'Speed limit (120km/h)', \n",
    "            9:'No passing', \n",
    "            10:'No passing veh over 3.5 tons', \n",
    "            11:'Right-of-way at intersection', \n",
    "            12:'Priority road', \n",
    "            13:'Yield', \n",
    "            14:'Stop', \n",
    "            15:'No vehicles', \n",
    "            16:'Veh > 3.5 tons prohibited', \n",
    "            17:'No entry', \n",
    "            18:'General caution', \n",
    "            19:'Dangerous curve left', \n",
    "            20:'Dangerous curve right', \n",
    "            21:'Double curve', \n",
    "            22:'Bumpy road', \n",
    "            23:'Slippery road', \n",
    "            24:'Road narrows on the right', \n",
    "            25:'Road work', \n",
    "            26:'Traffic signals', \n",
    "            27:'Pedestrians', \n",
    "            28:'Children crossing', \n",
    "            29:'Bicycles crossing', \n",
    "            30:'Beware of ice/snow',\n",
    "            31:'Wild animals crossing', \n",
    "            32:'End speed + passing limits', \n",
    "            33:'Turn right ahead', \n",
    "            34:'Turn left ahead', \n",
    "            35:'Ahead only', \n",
    "            36:'Go straight or right', \n",
    "            37:'Go straight or left', \n",
    "            38:'Keep right', \n",
    "            39:'Keep left', \n",
    "            40:'Roundabout mandatory', \n",
    "            41:'End of no passing', \n",
    "            42:'End no passing veh > 3.5 tons' }"
   ]
  },
  {
   "cell_type": "code",
   "execution_count": 43,
   "metadata": {},
   "outputs": [],
   "source": [
    "# classes = ['Speed limit (20km/h)', 'Speed limit (30km/h)', 'Speed limit (50km/h)', 'Speed limit (60km/h)',           'Speed limit (70km/h)', 'Speed limit (80km/h)', 'End of speed limit (80km/h)', 'Speed limit (100km/h)',           'Speed limit (120km/h)', 'No passing', 'No passing veh over 3.5 tons', 'Right-of-way at intersection',           'Priority road', 'Yield', 'Stop', 'No vehicles', 'Veh > 3.5 tons prohibited', 'No entry',           'General caution', 'Dangerous curve left', 'Dangerous curve right', 'Double curve', 'Bumpy road',           'Slippery road', 'Road narrows on the right', 'Road work', 'Traffic signals', 'Pedestrians',           'Children crossing', 'Bicycles crossing', 'Beware of ice/snow', 'Wild animals crossing',           'End speed + passing limits', 'Turn right ahead', 'Turn left ahead', 'Ahead only', 'Go straight or right',           'Go straight or left', 'Keep right', 'Keep left', 'Roundabout mandatory', 'End of no passing',           'End no passing veh > 3.5 tons']\n"
   ]
  },
  {
   "cell_type": "code",
   "execution_count": 44,
   "metadata": {},
   "outputs": [],
   "source": [
    "from PIL import Image\n",
    "import numpy as np\n",
    "import matplotlib.pyplot as plt\n",
    "def test_on_img(img):\n",
    "    data=[]\n",
    "    image = Image.open(img)\n",
    "    image = image.resize((64,64))\n",
    "    data.append(np.array(image))\n",
    "    X_test=np.array(data)\n",
    "    Y_pred = model.predict(X_test)\n",
    "    return image,Y_pred"
   ]
  },
  {
   "cell_type": "code",
   "execution_count": 45,
   "metadata": {},
   "outputs": [
    {
     "name": "stdout",
     "output_type": "stream",
     "text": [
      "\u001b[1m1/1\u001b[0m \u001b[32m━━━━━━━━━━━━━━━━━━━━\u001b[0m\u001b[37m\u001b[0m \u001b[1m0s\u001b[0m 270ms/step\n",
      "Predicted traffic sign is:  Speed limit (30km/h)\n"
     ]
    },
    {
     "data": {
      "text/plain": [
       "<matplotlib.image.AxesImage at 0x288b7ffeed0>"
      ]
     },
     "execution_count": 45,
     "metadata": {},
     "output_type": "execute_result"
    },
    {
     "data": {
      "image/png": "[encoded data removed]",
      "text/plain": [
       "<Figure size 640x480 with 1 Axes>"
      ]
     },
     "metadata": {},
     "output_type": "display_data"
    }
   ],
   "source": [
    "# plot, prediction = test_on_img(r'C:\\Users\\Tharun\\OneDrive\\Desktop\\Intelligent_systems\\Traffic_Sign_Recognition\\Test\\00024.png')\n",
    "# a = np.argmax(prediction)\n",
    "# print(\"Predicted traffic sign is: \", classes[a])\n",
    "# plt.imshow(plot)\n",
    "\n",
    "# plot,prediction = test_on_img(r'C:\\Users\\Tharun\\OneDrive\\Desktop\\Intelligent_systems\\Traffic_Sign_Recognition\\Test\\00024.png')\n",
    "# s = [str(i) for i in prediction] \n",
    "# a = np.argmax(prediction)\n",
    "\n",
    "# a = int(\"\".join(s)) \n",
    "# print(\"Predicted traffic sign is: \", classes[a])\n",
    "# plt.imshow(plot)\n",
    "# plt.show()\n",
    "plot, prediction = test_on_img(r\"C:\\Users\\Mythresh Neerugattu\\Desktop\\Intelligent sys\\Traffic_Sign_Recognition\\Test\\00024.png\")\n",
    "a = np.argmax(prediction)\n",
    "# print(\"Predicted traffic sign is: \", classes[a])\n",
    "print(\"Predicted traffic sign is: \", classes.get(a))\n",
    "\n",
    "plt.imshow(plot)\n"
   ]
  },
  {
   "cell_type": "code",
   "execution_count": null,
   "metadata": {},
   "outputs": [],
   "source": []
  }
 ],
 "metadata": {
  "kernelspec": {
   "display_name": "Python 3 (ipykernel)",
   "language": "python",
   "name": "python3"
  },
  "language_info": {
   "codemirror_mode": {
    "name": "ipython",
    "version": 3
   },
   "file_extension": ".py",
   "mimetype": "text/x-python",
   "name": "python",
   "nbconvert_exporter": "python",
   "pygments_lexer": "ipython3",
   "version": "3.12.4"
  }
 },
 "nbformat": 4,
 "nbformat_minor": 4
}
